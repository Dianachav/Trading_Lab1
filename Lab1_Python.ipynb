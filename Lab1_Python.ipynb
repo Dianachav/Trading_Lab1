{
 "cells": [
  {
   "cell_type": "code",
   "execution_count": 21,
   "metadata": {},
   "outputs": [],
   "source": [
    "# Librerias\n",
    "import quandl\n",
    "import datetime\n",
    "import numpy as np\n",
    "import pandas as pd\n",
    "import scipy.stats as stats\n",
    "import matplotlib.pyplot as plt"
   ]
  },
  {
   "cell_type": "code",
   "execution_count": null,
   "metadata": {},
   "outputs": [],
   "source": []
  },
  {
   "cell_type": "markdown",
   "metadata": {},
   "source": [
    "## Importar Excels"
   ]
  },
  {
   "cell_type": "markdown",
   "metadata": {},
   "source": [
    "### Mes 1"
   ]
  },
  {
   "cell_type": "code",
   "execution_count": 105,
   "metadata": {},
   "outputs": [],
   "source": [
    "mes1 = pd.read_csv('https://raw.githubusercontent.com/Dianachav/Trading_Lab1/master/ITA_holdings-1.csv',\n",
    "                   skiprows = [0,1,2,3,4,5,6,7,8,9], index_col = ['Ticker'], delim_whitespace=False, thousands=',')\n",
    "mes1=mes1.drop(columns = ['Name', 'Asset Class', \"Market Value\", 'Notional Value', 'Sector', 'SEDOL', 'ISIN', 'Exchange'])\n",
    "mes1=mes1.dropna(axis=0) #Elimina filas con NaN\n",
    "t1 = list(mes1.index)\n",
    "\n",
    "\n",
    "w1 = mes1['Weight (%)']\n",
    "p1 = mes1['Price']\n",
    "s1 = mes1['Shares']\n",
    "a1 = p1*weights*s1 # Valor en dinero de cada ticker\n",
    "\n",
    "v_etf1 = sum(a1) #Suma de los valores de las acciones\n",
    "#ETF1 =  v_etf1/17300000 #Valor del ETF1\n",
    "\n",
    "## Desviación estandar\n",
    "nav = pd.read_csv('https://raw.githubusercontent.com/Dianachav/Trading_Lab1/master/NAV.csv',\n",
    "                  delim_whitespace=False, thousands=',')\n",
    "nav1 = nav[\"NAV per Share\"]\n",
    "desv1 = np.std(nav1)\n",
    "mean1 = np.mean(nav1)\n"
   ]
  },
  {
   "cell_type": "code",
   "execution_count": 97,
   "metadata": {},
   "outputs": [],
   "source": [
    "quandl.ApiConfig.api_key = \"My9ygJsz7yTDx_9jcneH\""
   ]
  },
  {
   "cell_type": "code",
   "execution_count": 98,
   "metadata": {},
   "outputs": [],
   "source": [
    "o = []\n",
    "for item in reversed(nav1):\n",
    "    o.append(item)"
   ]
  },
  {
   "cell_type": "code",
   "execution_count": 99,
   "metadata": {},
   "outputs": [
    {
     "data": {
      "text/plain": [
       "[<matplotlib.lines.Line2D at 0x1a1bf24f90>]"
      ]
     },
     "execution_count": 99,
     "metadata": {},
     "output_type": "execute_result"
    },
    {
     "data": {
      "image/png": "[encoded data removed]",
      "text/plain": [
       "<Figure size 432x288 with 1 Axes>"
      ]
     },
     "metadata": {
      "needs_background": "light"
     },
     "output_type": "display_data"
    }
   ],
   "source": [
    "plt.plot(o)"
   ]
  },
  {
   "cell_type": "markdown",
   "metadata": {},
   "source": [
    "### Mes 2"
   ]
  },
  {
   "cell_type": "code",
   "execution_count": 106,
   "metadata": {},
   "outputs": [],
   "source": [
    "mes2 = pd.read_csv('https://raw.githubusercontent.com/Dianachav/Trading_Lab1/master/ITA_holdings-2.csv',\n",
    "                   skiprows = [0,1,2,3,4,5,6,7,8,9], index_col = ['Ticker'], delim_whitespace=False, thousands=',')\n",
    "mes2=mes2.drop(columns = ['Name', 'Asset Class', \"Market Value\", 'Notional Value', 'Sector', 'SEDOL', 'ISIN', 'Exchange'])\n",
    "mes2=mes2.dropna(axis=0) #Elimina filas con NaN\n",
    "t2 = list(mes2.index)\n",
    "\n",
    "w2 = mes2['Weight (%)']\n",
    "p2 = mes2['Price']\n",
    "s2 = mes2['Shares']\n",
    "a2 = p2*weights*s2 # Valor en dinero de cada ticker\n",
    "\n",
    "v_etf2 = sum(a2) #Suma de los valores de las acciones\n",
    "#ETF2 =  v_etf2/17300000 #Valor del ETF1\n",
    "\n",
    "nav2 = nav[\"NAV per Share\"].iloc[:250]\n",
    "desv2 = np.std(nav2)\n",
    "mean2 = np.mean(nav2)"
   ]
  },
  {
   "cell_type": "markdown",
   "metadata": {},
   "source": [
    "### Mes 3"
   ]
  },
  {
   "cell_type": "code",
   "execution_count": 144,
   "metadata": {},
   "outputs": [],
   "source": [
    "mes3 = pd.read_csv('https://raw.githubusercontent.com/Dianachav/Trading_Lab1/master/ITA_holdings-3.csv',\n",
    "                   skiprows = [0,1,2,3,4,5,6,7,8,9], index_col = ['Ticker'], delim_whitespace=False, thousands=',')\n",
    "mes3=mes3.drop(columns = ['Name', 'Asset Class', \"Market Value\", 'Notional Value', 'Sector', 'SEDOL', 'ISIN', 'Exchange'])\n",
    "mes3=mes3.dropna(axis=0) #Elimina filas con NaN\n",
    "t3 = list(mes3.index)\n",
    "\n",
    "weights = mes3['Weight (%)']\n",
    "p3 = mes3['Price']\n",
    "s3 = mes3['Shares']\n",
    "a3 = p3*weights*s3 # Valor en dinero de cada ticker\n",
    "\n",
    "v_etf3 = sum(a3) #Suma de los valores de las acciones\n",
    "#ETF3 =  v_etf3/17300000 #Valor del ETF1\n",
    "\n",
    "nav3 = nav[\"NAV per Share\"].iloc[:231]\n",
    "desv3 = np.std(nav3)\n",
    "mean3 = np.mean(nav3)"
   ]
  },
  {
   "cell_type": "markdown",
   "metadata": {},
   "source": [
    "### Mes 4"
   ]
  },
  {
   "cell_type": "code",
   "execution_count": 145,
   "metadata": {},
   "outputs": [],
   "source": [
    "mes4 = pd.read_csv('https://raw.githubusercontent.com/Dianachav/Trading_Lab1/master/ITA_holdings-1.csv',\n",
    "                   skiprows = [0,1,2,3,4,5,6,7,8,9], index_col = ['Ticker'], delim_whitespace=False, thousands=',')\n",
    "mes4=mes4.drop(columns = ['Name', 'Asset Class', \"Market Value\", 'Notional Value', 'Sector', 'SEDOL', 'ISIN', 'Exchange'])\n",
    "mes4=mes4.dropna(axis=0) #Elimina filas con NaN\n",
    "t4 = list(mes4.index)\n",
    "\n",
    "weights = mes4['Weight (%)']\n",
    "p4 = mes4['Price']\n",
    "s4 = mes4['Shares']\n",
    "a4 = p4*weights*s4 # Valor en dinero de cada ticker\n",
    "\n",
    "v_etf4 = sum(a4) #Suma de los valores de las acciones\n",
    "#ETF4 =  v_etf4/17300000 #Valor del ETF1\n",
    "\n",
    "nav4 = nav[\"NAV per Share\"].iloc[:208]\n",
    "desv4 = np.std(nav4)\n",
    "mean4 = np.mean(nav4)"
   ]
  },
  {
   "cell_type": "markdown",
   "metadata": {},
   "source": [
    "### Mes 5"
   ]
  },
  {
   "cell_type": "code",
   "execution_count": 146,
   "metadata": {},
   "outputs": [],
   "source": [
    "mes5 = pd.read_csv('https://raw.githubusercontent.com/Dianachav/Trading_Lab1/master/ITA_holdings-5.csv',\n",
    "                   skiprows = [0,1,2,3,4,5,6,7,8,9], index_col = ['Ticker'], delim_whitespace=False, thousands=',')\n",
    "mes5=mes5.drop(columns = ['Name', 'Asset Class', \"Market Value\", 'Notional Value', 'Sector', 'SEDOL', 'ISIN', 'Exchange'])\n",
    "mes5=mes5.dropna(axis=0) #Elimina filas con NaN\n",
    "t5 = list(mes5.index)\n",
    "\n",
    "weights = mes5['Weight (%)']\n",
    "p5 = mes5['Price']\n",
    "s5 = mes5['Shares']\n",
    "a5 = p5*weights*s5 # Valor en dinero de cada ticker\n",
    "\n",
    "v_etf5 = sum(a5) #Suma de los valores de las acciones\n",
    "#ETF5 =  v_etf5/17300000 #Valor del ETF1\n",
    "\n",
    "nav5 = nav[\"NAV per Share\"].iloc[:187]\n",
    "desv5 = np.std(nav5)\n",
    "mean5 = np.mean(nav5)"
   ]
  },
  {
   "cell_type": "markdown",
   "metadata": {},
   "source": [
    "### Mes 6"
   ]
  },
  {
   "cell_type": "code",
   "execution_count": 147,
   "metadata": {},
   "outputs": [],
   "source": [
    "mes6 = pd.read_csv('https://raw.githubusercontent.com/Dianachav/Trading_Lab1/master/ITA_holdings-6.csv',\n",
    "                   skiprows = [0,1,2,3,4,5,6,7,8,9], index_col = ['Ticker'], delim_whitespace=False, thousands=',')\n",
    "mes6=mes6.drop(columns = ['Name', 'Asset Class', \"Market Value\", 'Notional Value', 'Sector', 'SEDOL', 'ISIN', 'Exchange'])\n",
    "mes6=mes6.dropna(axis=0) #Elimina filas con NaN\n",
    "t6 = list(mes6.index)\n",
    "\n",
    "weights = mes6['Weight (%)']\n",
    "p6 = mes6['Price']\n",
    "s6 = mes6['Shares']\n",
    "a6 = p6*weights*s6 # Valor en dinero de cada ticker\n",
    "\n",
    "v_etf6 = sum(a1) #Suma de los valores de las acciones\n",
    "#ETF6 =  v_etf6/17300000 #Valor del ETF1\n",
    "\n",
    "nav6 = nav[\"NAV per Share\"].iloc[:166]\n",
    "desv6 = np.std(nav6)\n",
    "mean6 = np.mean(nav6)"
   ]
  },
  {
   "cell_type": "markdown",
   "metadata": {},
   "source": [
    "### Mes 7"
   ]
  },
  {
   "cell_type": "code",
   "execution_count": 148,
   "metadata": {},
   "outputs": [],
   "source": [
    "mes7 = pd.read_csv('https://raw.githubusercontent.com/Dianachav/Trading_Lab1/master/ITA_holdings-7.csv',\n",
    "                   skiprows = [0,1,2,3,4,5,6,7,8,9], index_col = ['Ticker'], delim_whitespace=False, thousands=',')\n",
    "mes7=mes7.drop(columns = ['Name', 'Asset Class', \"Market Value\", 'Notional Value', 'Sector', 'SEDOL', 'ISIN', 'Exchange'])\n",
    "mes7=mes7.dropna(axis=0) #Elimina filas con NaN\n",
    "t7 = list(mes7.index)\n",
    "\n",
    "weights = mes7['Weight (%)']\n",
    "p7 = mes7['Price']\n",
    "s7 = mes7['Shares']\n",
    "a7 = p7*weights*s7 # Valor en dinero de cada ticker\n",
    "\n",
    "v_etf7 = sum(a7) #Suma de los valores de las acciones\n",
    "#ETF7 =  v_etf7/17300000 #Valor del ETF1\n",
    "\n",
    "nav7 = nav[\"NAV per Share\"].iloc[:144]\n",
    "desv7 = np.std(nav7)\n",
    "mean7 = np.mean(nav7)"
   ]
  },
  {
   "cell_type": "markdown",
   "metadata": {},
   "source": [
    "### Mes 8"
   ]
  },
  {
   "cell_type": "code",
   "execution_count": 149,
   "metadata": {},
   "outputs": [],
   "source": [
    "mes8 = pd.read_csv('https://raw.githubusercontent.com/Dianachav/Trading_Lab1/master/ITA_holdings-8.csv',\n",
    "                   skiprows = [0,1,2,3,4,5,6,7,8,9], index_col = ['Ticker'], delim_whitespace=False, thousands=',')\n",
    "mes8=mes8.drop(columns = ['Name', 'Asset Class', \"Market Value\", 'Notional Value', 'Sector', 'SEDOL', 'ISIN', 'Exchange'])\n",
    "mes8=mes8.dropna(axis=0) #Elimina filas con NaN\n",
    "t8 = list(mes8.index)\n",
    "\n",
    "weights = mes8['Weight (%)']\n",
    "p8 = mes8['Price']\n",
    "s8 = mes8['Shares']\n",
    "a8 = p8*weights*s8 # Valor en dinero de cada ticker\n",
    "\n",
    "v_etf8 = sum(a8) #Suma de los valores de las acciones\n",
    "#ETF8 =  v_etf8/17300000 #Valor del ETF1\n",
    "\n",
    "nav8 = nav[\"NAV per Share\"].iloc[:123]\n",
    "desv8 = np.std(nav8)\n",
    "mean8 = np.mean(nav8)"
   ]
  },
  {
   "cell_type": "markdown",
   "metadata": {},
   "source": [
    "### Mes 9"
   ]
  },
  {
   "cell_type": "code",
   "execution_count": 150,
   "metadata": {},
   "outputs": [],
   "source": [
    "mes9 = pd.read_csv('https://raw.githubusercontent.com/Dianachav/Trading_Lab1/master/ITA_holdings-9.csv',\n",
    "                   skiprows = [0,1,2,3,4,5,6,7,8,9], index_col = ['Ticker'], delim_whitespace=False, thousands=',')\n",
    "mes9=mes9.drop(columns = ['Name', 'Asset Class', \"Market Value\", 'Notional Value', 'Sector', 'SEDOL', 'ISIN', 'Exchange'])\n",
    "mes9=mes9.dropna(axis=0) #Elimina filas con NaN\n",
    "t9 = list(mes9.index)\n",
    "\n",
    "weights = mes9['Weight (%)']\n",
    "p9 = mes9['Price']\n",
    "s9 = mes9['Shares']\n",
    "a9 = p9*weights*s9 # Valor en dinero de cada ticker\n",
    "\n",
    "v_etf9 = sum(a9) #Suma de los valores de las acciones\n",
    "#ETF9 =  v_etf9/17300000 #Valor del ETF1\n",
    "\n",
    "nav9 = nav[\"NAV per Share\"].iloc[:101]\n",
    "desv9 = np.std(nav9)\n",
    "mean9 = np.mean(nav9)"
   ]
  },
  {
   "cell_type": "markdown",
   "metadata": {},
   "source": [
    "### Mes 10"
   ]
  },
  {
   "cell_type": "code",
   "execution_count": 151,
   "metadata": {},
   "outputs": [],
   "source": [
    "mes10 = pd.read_csv('https://raw.githubusercontent.com/Dianachav/Trading_Lab1/master/ITA_holdings-10.csv',\n",
    "                   skiprows = [0,1,2,3,4,5,6,7,8,9], index_col = ['Ticker'], delim_whitespace=False, thousands=',')\n",
    "mes10=mes10.drop(columns = ['Name', 'Asset Class', \"Market Value\", 'Notional Value', 'Sector', 'SEDOL', 'ISIN', 'Exchange'])\n",
    "mes10=mes10.dropna(axis=0) #Elimina filas con NaN\n",
    "t10 = list(mes10.index)\n",
    "\n",
    "weights = mes10['Weight (%)']\n",
    "p10 = mes10['Price']\n",
    "s10 = mes10['Shares']\n",
    "a10 = p10*weights*s10 # Valor en dinero de cada ticker\n",
    "\n",
    "v_etf10 = sum(a10) #Suma de los valores de las acciones\n",
    "#ETF10 =  v_etf10/17300000 #Valor del ETF1\n",
    "\n",
    "nav10 = nav[\"NAV per Share\"].iloc[:80]\n",
    "desv10 = np.std(nav10)\n",
    "mean10 = np.mean(nav10)"
   ]
  },
  {
   "cell_type": "markdown",
   "metadata": {},
   "source": [
    "### Mes 11"
   ]
  },
  {
   "cell_type": "code",
   "execution_count": 152,
   "metadata": {},
   "outputs": [],
   "source": [
    "mes11 = pd.read_csv('https://raw.githubusercontent.com/Dianachav/Trading_Lab1/master/ITA_holdings-11.csv',\n",
    "                   skiprows = [0,1,2,3,4,5,6,7,8,9], index_col = ['Ticker'], delim_whitespace=False, thousands=',')\n",
    "mes11=mes11.drop(columns = ['Name', 'Asset Class', \"Market Value\", 'Notional Value', 'Sector', 'SEDOL', 'ISIN', 'Exchange'])\n",
    "mes11=mes11.dropna(axis=0) #Elimina filas con NaN\n",
    "t11 = list(mes11.index)\n",
    "\n",
    "weights = mes11['Weight (%)']\n",
    "p11 = mes11['Price']\n",
    "s11 = mes11['Shares']\n",
    "a11 = p11*weights*s11 # Valor en dinero de cada ticker\n",
    "\n",
    "v_etf11 = sum(a11) #Suma de los valores de las acciones\n",
    "#ETF11 =  v_etf11/17300000 #Valor del ETF1\n",
    "\n",
    "mes11.head()\n",
    "\n",
    "nav11 = nav[\"NAV per Share\"].iloc[:61]\n",
    "desv11 = np.std(nav11)\n",
    "mean11 = np.mean(nav11)"
   ]
  },
  {
   "cell_type": "markdown",
   "metadata": {},
   "source": [
    "### Mes 12"
   ]
  },
  {
   "cell_type": "code",
   "execution_count": 153,
   "metadata": {},
   "outputs": [],
   "source": [
    "mes12 = pd.read_csv('https://raw.githubusercontent.com/Dianachav/Trading_Lab1/master/ITA_holdings-12.csv',\n",
    "                   skiprows = [0,1,2,3,4,5,6,7,8,9], index_col = ['Ticker'], delim_whitespace=False, thousands=',')\n",
    "mes12=mes12.drop(columns = ['Name', 'Asset Class', \"Market Value\", 'Notional Value', 'Sector', 'SEDOL', 'ISIN', 'Exchange'])\n",
    "mes12=mes12.dropna(axis=0) #Elimina filas con NaN\n",
    "t12 = list(mes12.index)\n",
    "\n",
    "#weights = mes12['Weight (%)']\n",
    "#p12 = mes12['Price']\n",
    "#s12 = mes12['Shares']\n",
    "#a12 = p12*weights*s12 # Valor en dinero de cada ticker\n",
    "\n",
    "#v_etf12 = sum(a12) #Suma de los valores de las acciones\n",
    "#ETF12 =  v_etf12/17300000 #Valor del ETF1\n",
    "\n",
    "\n",
    "nav12 = nav[\"NAV per Share\"].iloc[:39]\n",
    "desv12 = np.std(nav12)\n",
    "mean12 = np.mean(nav12)\n"
   ]
  },
  {
   "cell_type": "markdown",
   "metadata": {},
   "source": [
    "## Tabla"
   ]
  },
  {
   "cell_type": "code",
   "execution_count": 86,
   "metadata": {},
   "outputs": [
    {
     "data": {
      "text/html": [
       "<div>\n",
       "<style scoped>\n",
       "    .dataframe tbody tr th:only-of-type {\n",
       "        vertical-align: middle;\n",
       "    }\n",
       "\n",
       "    .dataframe tbody tr th {\n",
       "        vertical-align: top;\n",
       "    }\n",
       "\n",
       "    .dataframe thead th {\n",
       "        text-align: right;\n",
       "    }\n",
       "</style>\n",
       "<table border=\"1\" class=\"dataframe\">\n",
       "  <thead>\n",
       "    <tr style=\"text-align: right;\">\n",
       "      <th></th>\n",
       "      <th>Rendimiento %</th>\n",
       "      <th>Desviación %</th>\n",
       "      <th>Sharpe</th>\n",
       "      <th>Treynor</th>\n",
       "    </tr>\n",
       "    <tr>\n",
       "      <th>Serie</th>\n",
       "      <th></th>\n",
       "      <th></th>\n",
       "      <th></th>\n",
       "      <th></th>\n",
       "    </tr>\n",
       "  </thead>\n",
       "  <tbody>\n",
       "    <tr>\n",
       "      <th>Serie 1</th>\n",
       "      <td>0.135978</td>\n",
       "      <td>17.572573</td>\n",
       "      <td>0.001294</td>\n",
       "      <td>0.000188</td>\n",
       "    </tr>\n",
       "    <tr>\n",
       "      <th>Serie 2</th>\n",
       "      <td>0.123758</td>\n",
       "      <td>16.821672</td>\n",
       "      <td>0.001359</td>\n",
       "      <td>0.000189</td>\n",
       "    </tr>\n",
       "    <tr>\n",
       "      <th>Serie 3</th>\n",
       "      <td>0.112052</td>\n",
       "      <td>15.799010</td>\n",
       "      <td>0.001442</td>\n",
       "      <td>0.000188</td>\n",
       "    </tr>\n",
       "    <tr>\n",
       "      <th>Serie 4</th>\n",
       "      <td>0.097726</td>\n",
       "      <td>14.518251</td>\n",
       "      <td>0.001586</td>\n",
       "      <td>0.000190</td>\n",
       "    </tr>\n",
       "    <tr>\n",
       "      <th>Serie 5</th>\n",
       "      <td>0.083792</td>\n",
       "      <td>13.077628</td>\n",
       "      <td>0.001779</td>\n",
       "      <td>0.000192</td>\n",
       "    </tr>\n",
       "    <tr>\n",
       "      <th>Serie 6</th>\n",
       "      <td>0.070023</td>\n",
       "      <td>11.618099</td>\n",
       "      <td>0.002014</td>\n",
       "      <td>0.000193</td>\n",
       "    </tr>\n",
       "    <tr>\n",
       "      <th>Serie 7</th>\n",
       "      <td>0.055599</td>\n",
       "      <td>10.034371</td>\n",
       "      <td>0.002366</td>\n",
       "      <td>0.000196</td>\n",
       "    </tr>\n",
       "    <tr>\n",
       "      <th>Serie 8</th>\n",
       "      <td>0.042430</td>\n",
       "      <td>8.501958</td>\n",
       "      <td>0.002808</td>\n",
       "      <td>0.000197</td>\n",
       "    </tr>\n",
       "    <tr>\n",
       "      <th>Serie 9</th>\n",
       "      <td>0.032493</td>\n",
       "      <td>8.222765</td>\n",
       "      <td>0.002904</td>\n",
       "      <td>0.000197</td>\n",
       "    </tr>\n",
       "    <tr>\n",
       "      <th>Serie 10</th>\n",
       "      <td>0.017286</td>\n",
       "      <td>6.506901</td>\n",
       "      <td>0.003693</td>\n",
       "      <td>0.000199</td>\n",
       "    </tr>\n",
       "    <tr>\n",
       "      <th>Serie 11</th>\n",
       "      <td>0.002727</td>\n",
       "      <td>4.405431</td>\n",
       "      <td>0.005464</td>\n",
       "      <td>0.000199</td>\n",
       "    </tr>\n",
       "  </tbody>\n",
       "</table>\n",
       "</div>"
      ],
      "text/plain": [
       "          Rendimiento %  Desviación %    Sharpe   Treynor\n",
       "Serie                                                    \n",
       "Serie 1        0.135978     17.572573  0.001294  0.000188\n",
       "Serie 2        0.123758     16.821672  0.001359  0.000189\n",
       "Serie 3        0.112052     15.799010  0.001442  0.000188\n",
       "Serie 4        0.097726     14.518251  0.001586  0.000190\n",
       "Serie 5        0.083792     13.077628  0.001779  0.000192\n",
       "Serie 6        0.070023     11.618099  0.002014  0.000193\n",
       "Serie 7        0.055599     10.034371  0.002366  0.000196\n",
       "Serie 8        0.042430      8.501958  0.002808  0.000197\n",
       "Serie 9        0.032493      8.222765  0.002904  0.000197\n",
       "Serie 10       0.017286      6.506901  0.003693  0.000199\n",
       "Serie 11       0.002727      4.405431  0.005464  0.000199"
      ]
     },
     "execution_count": 86,
     "metadata": {},
     "output_type": "execute_result"
    }
   ],
   "source": [
    "## Rendimiento de los ETF\n",
    "Ren1 = np.log(mean12/mean1)\n",
    "Ren2 = np.log(mean12/mean2)\n",
    "Ren3 = np.log(mean12/mean3)\n",
    "Ren4 = np.log(mean12/mean4)\n",
    "Ren5 = np.log(mean12/mean5)\n",
    "Ren6 = np.log(mean12/mean6)\n",
    "Ren7 = np.log(mean12/mean7)\n",
    "Ren8 = np.log(mean12/mean8)\n",
    "Ren9 = np.log(mean12/mean9)\n",
    "Ren10 = np.log(mean12/mean10)\n",
    "Ren11 = np.log(mean12/mean11)\n",
    "\n",
    "\n",
    "#DataFrame\n",
    "des = np.array([desv1,desv2,desv3,desv4,desv5,desv6,desv7,desv8,desv9,desv10,desv11])\n",
    "r = np.array([Ren1,Ren2,Ren3,Ren4,Ren5,Ren6,Ren7,Ren8,Ren9,Ren10,Ren11])\n",
    "usd_rate = [0.0241,0.0241,0.0239,0.0240,0.0241,0.0241,0.0243,0.0243,0.0242,0.0242, 0.0241]\n",
    "sharpe = ((((r/100)-usd_rate)/des)*(-1))\n",
    "beta = 1.21\n",
    "treynor = (((((r/100)-usd_rate)/beta)/100)*(-1))\n",
    "\n",
    "series = [\"Serie 1\", \"Serie 2\", \"Serie 3\", \"Serie 4\", \"Serie 5\", \"Serie 6\", \"Serie 7\",\n",
    "          \"Serie 8\", \"Serie 9\", \"Serie 10\", \"Serie 11\"]\n",
    "tabla = pd.DataFrame(index=series,columns=['Rendimiento %'])\n",
    "tabla.index.name = \"Serie\"\n",
    "tabla['Rendimiento %'] = r\n",
    "tabla['Desviación %'] = des\n",
    "tabla['Sharpe'] = sharpe\n",
    "tabla[\"Treynor\"] = treynor\n",
    "tabla"
   ]
  },
  {
   "cell_type": "code",
   "execution_count": null,
   "metadata": {},
   "outputs": [],
   "source": []
  },
  {
   "cell_type": "code",
   "execution_count": null,
   "metadata": {},
   "outputs": [],
   "source": []
  },
  {
   "cell_type": "code",
   "execution_count": 108,
   "metadata": {},
   "outputs": [],
   "source": [
    "#Función de comparación entre meses\n",
    "def NotM(a, b):\n",
    "    return [[x for x in a if x not in b], [x for x in b if x not in a]]"
   ]
  },
  {
   "cell_type": "code",
   "execution_count": 163,
   "metadata": {},
   "outputs": [
    {
     "data": {
      "text/plain": [
       "[[], []]"
      ]
     },
     "execution_count": 163,
     "metadata": {},
     "output_type": "execute_result"
    }
   ],
   "source": [
    "NotM(t11,t12)"
   ]
  },
  {
   "cell_type": "code",
   "execution_count": null,
   "metadata": {},
   "outputs": [],
   "source": [
    "#Compre y venta de acciones por mes:\n",
    "\n",
    "mes1 = ['BEAV','TASR']\n",
    "mes2 = ['AAXN']\n",
    "mes3 = ['AAXN']\n",
    "mes4 = ['BEAV','TASR','BEAV','TASR']\n",
    "mes5 = ['AAXN']\n",
    "mes7 = ['DGI']"
   ]
  },
  {
   "cell_type": "code",
   "execution_count": 171,
   "metadata": {},
   "outputs": [
    {
     "data": {
      "text/plain": [
       "array([1223353.3863])"
      ]
     },
     "execution_count": 171,
     "metadata": {},
     "output_type": "execute_result"
    }
   ],
   "source": [
    "#Mes 1\n",
    "beav1 = pd.DataFrame(mes1.loc[\"BEAV\"])\n",
    "cbeav1 = (beav1.iloc[1]*beav1.iloc[2])*0.003\n",
    "\n",
    "tasr1 = pd.DataFrame(mes1.loc[\"TASR\"])\n",
    "ctasr1 = (tasr1.iloc[1]*tasr1.iloc[2])*0.003\n",
    "\n",
    "#Mes 2\n",
    "aaxn2 = pd.DataFrame(mes2.loc[\"AAXN\"])\n",
    "caaxn2 = (aaxn2.iloc[1]*aaxn2.iloc[2])*0.003\n",
    "\n",
    "#Mes 3\n",
    "aaxn3 = pd.DataFrame(mes3.loc[\"AAXN\"])\n",
    "caaxn3 = (aaxn3.iloc[1]*aaxn3.iloc[2])*0.003\n",
    "\n",
    "#Mes 4\n",
    "beav4 = pd.DataFrame(mes4.loc[\"BEAV\"])\n",
    "cbeav4 = (beav4.iloc[1]*beav4.iloc[2])*0.003\n",
    "\n",
    "tasr4 = pd.DataFrame(mes4.loc[\"TASR\"])\n",
    "ctasr4 = (tasr4.iloc[1]*tasr4 .iloc[2])*0.003\n",
    "\n",
    "beav4_v = pd.DataFrame(mes4.loc[\"BEAV\"])\n",
    "cbeav4_v1 = (beav4_v.iloc[1]*beav4_v.iloc[2])*0.003\n",
    "\n",
    "tasr4_v = pd.DataFrame(mes4.loc[\"TASR\"])\n",
    "ctasr4_v = (tasr4_v.iloc[1]*tasr4_v.iloc[2])*0.003\n",
    "\n",
    "#Mes 5\n",
    "aaxn5 = pd.DataFrame(mes5.loc[\"AAXN\"])\n",
    "caaxn5 = (aaxn5.iloc[1]*aaxn5.iloc[2])*0.003\n",
    "\n",
    "#Mes 7\n",
    "dgi7 = pd.DataFrame(mes7.loc[\"DGI\"])\n",
    "cdgi7 = (dgi7.iloc[1]*dgi7.iloc[2])*0.003\n",
    "\n",
    "c = [cbeav1, ctasr1, caaxn2, caaxn3, cbeav4, ctasr4, cbeav4_v1, ctasr4_v, caaxn5, cdgi7]\n",
    "comisiones = sum(np.array(c))\n",
    "comisiones"
   ]
  },
  {
   "cell_type": "code",
   "execution_count": 172,
   "metadata": {},
   "outputs": [
    {
     "data": {
      "text/plain": [
       "[<matplotlib.lines.Line2D at 0x1a1bd1f9d0>]"
      ]
     },
     "execution_count": 172,
     "metadata": {},
     "output_type": "execute_result"
    },
    {
     "data": {
      "image/png": "[encoded data removed]",
      "text/plain": [
       "<Figure size 432x288 with 1 Axes>"
      ]
     },
     "metadata": {
      "needs_background": "light"
     },
     "output_type": "display_data"
    }
   ],
   "source": [
    "plt.plot(c)"
   ]
  },
  {
   "cell_type": "code",
   "execution_count": null,
   "metadata": {},
   "outputs": [],
   "source": []
  },
  {
   "cell_type": "code",
   "execution_count": null,
   "metadata": {},
   "outputs": [],
   "source": []
  },
  {
   "cell_type": "code",
   "execution_count": null,
   "metadata": {},
   "outputs": [],
   "source": []
  },
  {
   "cell_type": "code",
   "execution_count": 18,
   "metadata": {},
   "outputs": [],
   "source": [
    "#Descargar datos Quandl\n",
    "\n",
    "ticker = tick1\n",
    "date = { 'gte': '2017-03-01', 'lte': '2018-03-01' }\n",
    "column = { 'columns': ['ticker', 'date', 'Adj_close']}\n",
    "\n",
    "data = quandl.get_table('WIKI/PRICES', qopts = column, ticker = ticker, date = date)# ticker = 'WIKI/AAPL' #'AAPL.US'\n",
    "data = data.set_index('date') # Poner los índices como las fechas\n",
    "\n",
    "# Seleccionar los ADJ_CLOSE de ticker\n",
    "data_n = [data.loc[data['ticker']== i,'adj_close'] for i in ticker]"
   ]
  }
 ],
 "metadata": {
  "kernelspec": {
   "display_name": "Python 2",
   "language": "python",
   "name": "python2"
  },
  "language_info": {
   "codemirror_mode": {
    "name": "ipython",
    "version": 2
   },
   "file_extension": ".py",
   "mimetype": "text/x-python",
   "name": "python",
   "nbconvert_exporter": "python",
   "pygments_lexer": "ipython2",
   "version": "2.7.15"
  }
 },
 "nbformat": 4,
 "nbformat_minor": 2
}
